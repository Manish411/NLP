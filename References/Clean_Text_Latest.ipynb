{
 "cells": [
  {
   "cell_type": "code",
   "execution_count": 7,
   "metadata": {
    "collapsed": true
   },
   "outputs": [],
   "source": [
    "import pandas as pd\n",
    "import numpy as np\n",
    "import re\n",
    "from collections import Counter, defaultdict"
   ]
  },
  {
   "cell_type": "code",
   "execution_count": 26,
   "metadata": {},
   "outputs": [],
   "source": [
    "prac = pd.read_csv(\"C:\\\\Users\\\\Manish411\\\\Desktop\\\\practice.csv\",header=0)"
   ]
  },
  {
   "cell_type": "code",
   "execution_count": 27,
   "metadata": {},
   "outputs": [
    {
     "data": {
      "text/html": [
       "<div>\n",
       "<style>\n",
       "    .dataframe thead tr:only-child th {\n",
       "        text-align: right;\n",
       "    }\n",
       "\n",
       "    .dataframe thead th {\n",
       "        text-align: left;\n",
       "    }\n",
       "\n",
       "    .dataframe tbody tr th {\n",
       "        vertical-align: top;\n",
       "    }\n",
       "</style>\n",
       "<table border=\"1\" class=\"dataframe\">\n",
       "  <thead>\n",
       "    <tr style=\"text-align: right;\">\n",
       "      <th></th>\n",
       "      <th>Data1</th>\n",
       "      <th>Data2</th>\n",
       "    </tr>\n",
       "  </thead>\n",
       "  <tbody>\n",
       "    <tr>\n",
       "      <th>0</th>\n",
       "      <td>1a. What is your Gender?\\n\\n 1a. I am male.\\n\\...</td>\n",
       "      <td>3a. Is Pune a good place?\\n3a. Pune is a good ...</td>\n",
       "    </tr>\n",
       "    <tr>\n",
       "      <th>1</th>\n",
       "      <td>2a. Where are you from?\\n 2a. I am from New De...</td>\n",
       "      <td>4a. Where is India?\\n India is in Asia.</td>\n",
       "    </tr>\n",
       "  </tbody>\n",
       "</table>\n",
       "</div>"
      ],
      "text/plain": [
       "                                               Data1  \\\n",
       "0  1a. What is your Gender?\\n\\n 1a. I am male.\\n\\...   \n",
       "1  2a. Where are you from?\\n 2a. I am from New De...   \n",
       "\n",
       "                                               Data2  \n",
       "0  3a. Is Pune a good place?\\n3a. Pune is a good ...  \n",
       "1            4a. Where is India?\\n India is in Asia.  "
      ]
     },
     "execution_count": 27,
     "metadata": {},
     "output_type": "execute_result"
    }
   ],
   "source": [
    "prac"
   ]
  },
  {
   "cell_type": "code",
   "execution_count": 28,
   "metadata": {},
   "outputs": [],
   "source": [
    "def clean_text(text):\n",
    "    d2 = text.splitlines()\n",
    "    d2 = [x.strip(' ') for x in d2]\n",
    "    l1 = []\n",
    "    for char in d2:\n",
    "        lst = char[:3]\n",
    "        l1.append(lst)\n",
    "    #print(l1)\n",
    "    \n",
    "    def duplicates(lst):\n",
    "        cnt = Counter(lst)\n",
    "        return [key for key in cnt.keys() if cnt[key]> 1]\n",
    "\n",
    "    def duplicates_indices(lst):\n",
    "        dup, ind= duplicates(lst), defaultdict(list)\n",
    "        for i, v in enumerate(lst):\n",
    "            if v in dup: ind[v].append(i)\n",
    "        return ind  \n",
    "    \n",
    "    duplicates(l1)\n",
    "    duplicates_indices(l1)\n",
    "    \n",
    "    k = duplicates_indices(l1)\n",
    "    exclude_index = [value[0] for key,value in k.items() if re.match('^[0-9][a-z]\\.',key)]\n",
    "    d2 =[i for j,i in enumerate(d2) if j not in exclude_index]\n",
    "    d3 = [i for i in d2 if re.match('(^[0-9][a-z]\\..*\\?$)',i) is None]\n",
    "    d3 = [x for x in d3 if x != '']\n",
    "    d4 = '\\n'.join(d3)\n",
    "    \n",
    "    return d4"
   ]
  },
  {
   "cell_type": "code",
   "execution_count": 29,
   "metadata": {},
   "outputs": [],
   "source": [
    "prac[\"Data1_cleaned\"] = prac.apply(lambda row: clean_text(row['Data1']), axis=1)"
   ]
  },
  {
   "cell_type": "code",
   "execution_count": 30,
   "metadata": {},
   "outputs": [],
   "source": [
    "prac[\"Data2_cleaned\"] = prac.apply(lambda row: clean_text(row['Data2']), axis=1)"
   ]
  },
  {
   "cell_type": "code",
   "execution_count": 31,
   "metadata": {},
   "outputs": [],
   "source": [
    "prac.to_csv(\"C:\\\\Users\\Manish411\\\\Desktop\\\\prac1.csv\")"
   ]
  }
 ],
 "metadata": {
  "kernelspec": {
   "display_name": "Python 3",
   "language": "python",
   "name": "python3"
  },
  "language_info": {
   "codemirror_mode": {
    "name": "ipython",
    "version": 3
   },
   "file_extension": ".py",
   "mimetype": "text/x-python",
   "name": "python",
   "nbconvert_exporter": "python",
   "pygments_lexer": "ipython3",
   "version": "3.6.3"
  }
 },
 "nbformat": 4,
 "nbformat_minor": 2
}
