{
 "cells": [
  {
   "cell_type": "code",
   "execution_count": 1,
   "metadata": {
    "collapsed": true
   },
   "outputs": [],
   "source": [
    "import pandas as pd\n",
    "import numpy as np\n",
    "import re"
   ]
  },
  {
   "cell_type": "code",
   "execution_count": 24,
   "metadata": {
    "collapsed": true
   },
   "outputs": [],
   "source": [
    "prac = pd.read_csv(\"C:\\\\Users\\\\Manish411\\\\Desktop\\\\practice.csv\",header=0)"
   ]
  },
  {
   "cell_type": "code",
   "execution_count": 25,
   "metadata": {},
   "outputs": [
    {
     "data": {
      "text/plain": [
       "(2, 2)"
      ]
     },
     "execution_count": 25,
     "metadata": {},
     "output_type": "execute_result"
    }
   ],
   "source": [
    "prac.shape"
   ]
  },
  {
   "cell_type": "code",
   "execution_count": 26,
   "metadata": {
    "collapsed": true
   },
   "outputs": [],
   "source": [
    "data = prac.head()"
   ]
  },
  {
   "cell_type": "code",
   "execution_count": 27,
   "metadata": {},
   "outputs": [
    {
     "data": {
      "text/html": [
       "<div>\n",
       "<style>\n",
       "    .dataframe thead tr:only-child th {\n",
       "        text-align: right;\n",
       "    }\n",
       "\n",
       "    .dataframe thead th {\n",
       "        text-align: left;\n",
       "    }\n",
       "\n",
       "    .dataframe tbody tr th {\n",
       "        vertical-align: top;\n",
       "    }\n",
       "</style>\n",
       "<table border=\"1\" class=\"dataframe\">\n",
       "  <thead>\n",
       "    <tr style=\"text-align: right;\">\n",
       "      <th></th>\n",
       "      <th>Data1</th>\n",
       "      <th>Data2</th>\n",
       "    </tr>\n",
       "  </thead>\n",
       "  <tbody>\n",
       "    <tr>\n",
       "      <th>0</th>\n",
       "      <td>1a. What is your Gender?\\n\\n1a. I am male.\\n\\n...</td>\n",
       "      <td>3a. Is Pune a good place?\\n3a. Pune is a good ...</td>\n",
       "    </tr>\n",
       "    <tr>\n",
       "      <th>1</th>\n",
       "      <td>2a. Where are you from?\\n2a. I am from New Delhi.</td>\n",
       "      <td>4a. Where is India?\\n4a. India is in Asia.</td>\n",
       "    </tr>\n",
       "  </tbody>\n",
       "</table>\n",
       "</div>"
      ],
      "text/plain": [
       "                                               Data1  \\\n",
       "0  1a. What is your Gender?\\n\\n1a. I am male.\\n\\n...   \n",
       "1  2a. Where are you from?\\n2a. I am from New Delhi.   \n",
       "\n",
       "                                               Data2  \n",
       "0  3a. Is Pune a good place?\\n3a. Pune is a good ...  \n",
       "1         4a. Where is India?\\n4a. India is in Asia.  "
      ]
     },
     "execution_count": 27,
     "metadata": {},
     "output_type": "execute_result"
    }
   ],
   "source": [
    "data"
   ]
  },
  {
   "cell_type": "code",
   "execution_count": 28,
   "metadata": {},
   "outputs": [
    {
     "data": {
      "text/plain": [
       "0    1a. What is your Gender?\\n\\n1a. I am male.\\n\\n...\n",
       "1    2a. Where are you from?\\n2a. I am from New Delhi.\n",
       "Name: Data1, dtype: object"
      ]
     },
     "execution_count": 28,
     "metadata": {},
     "output_type": "execute_result"
    }
   ],
   "source": [
    "d1 = data[\"Data1\"]\n",
    "d1"
   ]
  },
  {
   "cell_type": "code",
   "execution_count": 29,
   "metadata": {},
   "outputs": [],
   "source": [
    "d2 = d1[0]"
   ]
  },
  {
   "cell_type": "code",
   "execution_count": 30,
   "metadata": {},
   "outputs": [],
   "source": [
    "d2 = d2.splitlines()"
   ]
  },
  {
   "cell_type": "code",
   "execution_count": 31,
   "metadata": {},
   "outputs": [],
   "source": [
    "d2 = [x.strip(' ') for x in d2]"
   ]
  },
  {
   "cell_type": "code",
   "execution_count": 32,
   "metadata": {},
   "outputs": [
    {
     "data": {
      "text/plain": [
       "['1a. What is your Gender?',\n",
       " '',\n",
       " '1a. I am male.',\n",
       " '',\n",
       " '1b. Where do you stay?',\n",
       " '',\n",
       " '1b. I stay at Gurgaon.',\n",
       " '',\n",
       " '1c. Where do you work?',\n",
       " '',\n",
       " '1c. I work with RBS.']"
      ]
     },
     "execution_count": 32,
     "metadata": {},
     "output_type": "execute_result"
    }
   ],
   "source": [
    "d2\n",
    "#type(d2)"
   ]
  },
  {
   "cell_type": "code",
   "execution_count": 33,
   "metadata": {},
   "outputs": [
    {
     "name": "stdout",
     "output_type": "stream",
     "text": [
      "['1a.', '', '1a.', '', '1b.', '', '1b.', '', '1c.', '', '1c.']\n"
     ]
    }
   ],
   "source": [
    "l1 = []\n",
    "for char in d2:\n",
    "    lst = char[:3]\n",
    "    l1.append(lst)\n",
    "    \n",
    "print(l1)"
   ]
  },
  {
   "cell_type": "code",
   "execution_count": 34,
   "metadata": {
    "collapsed": true
   },
   "outputs": [],
   "source": [
    "from collections import Counter, defaultdict\n",
    "\n",
    "def duplicates(lst):\n",
    "    cnt= Counter(lst)\n",
    "    return [key for key in cnt.keys() if cnt[key]> 1]\n",
    "\n",
    "def duplicates_indices(lst):\n",
    "    dup, ind= duplicates(lst), defaultdict(list)\n",
    "    for i, v in enumerate(lst):\n",
    "        if v in dup: ind[v].append(i)\n",
    "    return ind"
   ]
  },
  {
   "cell_type": "code",
   "execution_count": 35,
   "metadata": {},
   "outputs": [
    {
     "name": "stdout",
     "output_type": "stream",
     "text": [
      "['1a.', '', '1b.', '1c.']\n",
      "defaultdict(<class 'list'>, {'1a.': [0, 2], '': [1, 3, 5, 7, 9], '1b.': [4, 6], '1c.': [8, 10]})\n"
     ]
    }
   ],
   "source": [
    "print(duplicates(l1))\n",
    "print(duplicates_indices(l1))"
   ]
  },
  {
   "cell_type": "code",
   "execution_count": 36,
   "metadata": {},
   "outputs": [
    {
     "name": "stdout",
     "output_type": "stream",
     "text": [
      "dict_keys(['1a.', '', '1b.', '1c.'])\n"
     ]
    },
    {
     "data": {
      "text/plain": [
       "dict_values([[0, 2], [1, 3, 5, 7, 9], [4, 6], [8, 10]])"
      ]
     },
     "execution_count": 36,
     "metadata": {},
     "output_type": "execute_result"
    }
   ],
   "source": [
    "k = duplicates_indices(l1)\n",
    "print(k.keys())\n",
    "k.values()"
   ]
  },
  {
   "cell_type": "code",
   "execution_count": 37,
   "metadata": {},
   "outputs": [
    {
     "data": {
      "text/plain": [
       "[0, 4, 8]"
      ]
     },
     "execution_count": 37,
     "metadata": {},
     "output_type": "execute_result"
    }
   ],
   "source": [
    "exclude_index = [value[0] for key,value in k.items() if re.match('^[0-9][a-z]\\.',key)]\n",
    "exclude_index"
   ]
  },
  {
   "cell_type": "code",
   "execution_count": 38,
   "metadata": {},
   "outputs": [],
   "source": [
    "d2 =[i for j,i in enumerate(d2) if j not in exclude_index]"
   ]
  },
  {
   "cell_type": "code",
   "execution_count": 39,
   "metadata": {},
   "outputs": [
    {
     "data": {
      "text/plain": [
       "['',\n",
       " '1a. I am male.',\n",
       " '',\n",
       " '',\n",
       " '1b. I stay at Gurgaon.',\n",
       " '',\n",
       " '',\n",
       " '1c. I work with RBS.']"
      ]
     },
     "execution_count": 39,
     "metadata": {},
     "output_type": "execute_result"
    }
   ],
   "source": [
    "[i for i in d2 if re.match('(^[0-9][a-z]\\..*\\?$)',i) is None]"
   ]
  }
 ],
 "metadata": {
  "kernelspec": {
   "display_name": "Python 3",
   "language": "python",
   "name": "python3"
  },
  "language_info": {
   "codemirror_mode": {
    "name": "ipython",
    "version": 3
   },
   "file_extension": ".py",
   "mimetype": "text/x-python",
   "name": "python",
   "nbconvert_exporter": "python",
   "pygments_lexer": "ipython3",
   "version": "3.6.3"
  }
 },
 "nbformat": 4,
 "nbformat_minor": 2
}
